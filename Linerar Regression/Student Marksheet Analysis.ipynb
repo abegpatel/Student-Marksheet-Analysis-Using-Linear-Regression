{
  "nbformat": 4,
  "nbformat_minor": 0,
  "metadata": {
    "colab": {
      "name": "evo-ass1.ipynb",
      "provenance": [],
      "collapsed_sections": []
    },
    "kernelspec": {
      "name": "python3",
      "display_name": "Python 3"
    },
    "accelerator": "GPU"
  },
  "cells": [
    {
      "cell_type": "code",
      "metadata": {
        "id": "N5Nou5yIvzmt"
      },
      "source": [
        "import pandas as pd\n",
        "import numpy as np\n",
        "import seaborn as sns\n",
        "import matplotlib.pyplot as plt"
      ],
      "execution_count": null,
      "outputs": []
    },
    {
      "cell_type": "markdown",
      "metadata": {
        "id": "MlJ8N6KPiPAr"
      },
      "source": [
        "**A-Data Generation:**"
      ]
    },
    {
      "cell_type": "code",
      "metadata": {
        "colab": {
          "base_uri": "https://localhost:8080/",
          "height": 402
        },
        "id": "o4YmyAymzMR4",
        "outputId": "160a510f-ea82-41a8-fe29-438e0b6eb0b5"
      },
      "source": [
        "\n",
        "ls1=[]\n",
        "ls2=[]\n",
        "for i in range(200):\n",
        "  ls1.append(np.random.randint(15,35))\n",
        "  ls2.append(np.random.randint(5,10))\n",
        "\n",
        "Subject=pd.DataFrame({'English':ls1,'Math':ls1,'Science':ls1,'Grade':ls2})\n",
        "Subject"
      ],
      "execution_count": null,
      "outputs": [
        {
          "output_type": "execute_result",
          "data": {
            "text/html": [
              "<div>\n",
              "<style scoped>\n",
              "    .dataframe tbody tr th:only-of-type {\n",
              "        vertical-align: middle;\n",
              "    }\n",
              "\n",
              "    .dataframe tbody tr th {\n",
              "        vertical-align: top;\n",
              "    }\n",
              "\n",
              "    .dataframe thead th {\n",
              "        text-align: right;\n",
              "    }\n",
              "</style>\n",
              "<table border=\"1\" class=\"dataframe\">\n",
              "  <thead>\n",
              "    <tr style=\"text-align: right;\">\n",
              "      <th></th>\n",
              "      <th>English</th>\n",
              "      <th>Math</th>\n",
              "      <th>Science</th>\n",
              "      <th>Grade</th>\n",
              "    </tr>\n",
              "  </thead>\n",
              "  <tbody>\n",
              "    <tr>\n",
              "      <th>0</th>\n",
              "      <td>30</td>\n",
              "      <td>30</td>\n",
              "      <td>30</td>\n",
              "      <td>5</td>\n",
              "    </tr>\n",
              "    <tr>\n",
              "      <th>1</th>\n",
              "      <td>17</td>\n",
              "      <td>17</td>\n",
              "      <td>17</td>\n",
              "      <td>7</td>\n",
              "    </tr>\n",
              "    <tr>\n",
              "      <th>2</th>\n",
              "      <td>25</td>\n",
              "      <td>25</td>\n",
              "      <td>25</td>\n",
              "      <td>9</td>\n",
              "    </tr>\n",
              "    <tr>\n",
              "      <th>3</th>\n",
              "      <td>32</td>\n",
              "      <td>32</td>\n",
              "      <td>32</td>\n",
              "      <td>6</td>\n",
              "    </tr>\n",
              "    <tr>\n",
              "      <th>4</th>\n",
              "      <td>22</td>\n",
              "      <td>22</td>\n",
              "      <td>22</td>\n",
              "      <td>9</td>\n",
              "    </tr>\n",
              "    <tr>\n",
              "      <th>...</th>\n",
              "      <td>...</td>\n",
              "      <td>...</td>\n",
              "      <td>...</td>\n",
              "      <td>...</td>\n",
              "    </tr>\n",
              "    <tr>\n",
              "      <th>195</th>\n",
              "      <td>20</td>\n",
              "      <td>20</td>\n",
              "      <td>20</td>\n",
              "      <td>8</td>\n",
              "    </tr>\n",
              "    <tr>\n",
              "      <th>196</th>\n",
              "      <td>33</td>\n",
              "      <td>33</td>\n",
              "      <td>33</td>\n",
              "      <td>6</td>\n",
              "    </tr>\n",
              "    <tr>\n",
              "      <th>197</th>\n",
              "      <td>18</td>\n",
              "      <td>18</td>\n",
              "      <td>18</td>\n",
              "      <td>9</td>\n",
              "    </tr>\n",
              "    <tr>\n",
              "      <th>198</th>\n",
              "      <td>21</td>\n",
              "      <td>21</td>\n",
              "      <td>21</td>\n",
              "      <td>5</td>\n",
              "    </tr>\n",
              "    <tr>\n",
              "      <th>199</th>\n",
              "      <td>15</td>\n",
              "      <td>15</td>\n",
              "      <td>15</td>\n",
              "      <td>7</td>\n",
              "    </tr>\n",
              "  </tbody>\n",
              "</table>\n",
              "<p>200 rows × 4 columns</p>\n",
              "</div>"
            ],
            "text/plain": [
              "     English  Math  Science  Grade\n",
              "0         30    30       30      5\n",
              "1         17    17       17      7\n",
              "2         25    25       25      9\n",
              "3         32    32       32      6\n",
              "4         22    22       22      9\n",
              "..       ...   ...      ...    ...\n",
              "195       20    20       20      8\n",
              "196       33    33       33      6\n",
              "197       18    18       18      9\n",
              "198       21    21       21      5\n",
              "199       15    15       15      7\n",
              "\n",
              "[200 rows x 4 columns]"
            ]
          },
          "metadata": {
            "tags": []
          },
          "execution_count": 4
        }
      ]
    },
    {
      "cell_type": "markdown",
      "metadata": {
        "id": "cXxkXDsBkxoH"
      },
      "source": [
        "**B-pre Build Algorithm:**"
      ]
    },
    {
      "cell_type": "code",
      "metadata": {
        "id": "Vb0vel5I2iVc"
      },
      "source": [
        "X = Subject.iloc[:, :-1].values\n",
        "y = Subject.iloc[:,-1].values"
      ],
      "execution_count": null,
      "outputs": []
    },
    {
      "cell_type": "code",
      "metadata": {
        "colab": {
          "base_uri": "https://localhost:8080/",
          "height": 402
        },
        "id": "yGAqoieKcS-0",
        "outputId": "683ad71d-7264-404e-b7dc-0677eba1b789"
      },
      "source": [
        "Subject"
      ],
      "execution_count": null,
      "outputs": [
        {
          "output_type": "execute_result",
          "data": {
            "text/html": [
              "<div>\n",
              "<style scoped>\n",
              "    .dataframe tbody tr th:only-of-type {\n",
              "        vertical-align: middle;\n",
              "    }\n",
              "\n",
              "    .dataframe tbody tr th {\n",
              "        vertical-align: top;\n",
              "    }\n",
              "\n",
              "    .dataframe thead th {\n",
              "        text-align: right;\n",
              "    }\n",
              "</style>\n",
              "<table border=\"1\" class=\"dataframe\">\n",
              "  <thead>\n",
              "    <tr style=\"text-align: right;\">\n",
              "      <th></th>\n",
              "      <th>English</th>\n",
              "      <th>Math</th>\n",
              "      <th>Science</th>\n",
              "      <th>Grade</th>\n",
              "    </tr>\n",
              "  </thead>\n",
              "  <tbody>\n",
              "    <tr>\n",
              "      <th>0</th>\n",
              "      <td>30</td>\n",
              "      <td>30</td>\n",
              "      <td>30</td>\n",
              "      <td>5</td>\n",
              "    </tr>\n",
              "    <tr>\n",
              "      <th>1</th>\n",
              "      <td>17</td>\n",
              "      <td>17</td>\n",
              "      <td>17</td>\n",
              "      <td>7</td>\n",
              "    </tr>\n",
              "    <tr>\n",
              "      <th>2</th>\n",
              "      <td>25</td>\n",
              "      <td>25</td>\n",
              "      <td>25</td>\n",
              "      <td>9</td>\n",
              "    </tr>\n",
              "    <tr>\n",
              "      <th>3</th>\n",
              "      <td>32</td>\n",
              "      <td>32</td>\n",
              "      <td>32</td>\n",
              "      <td>6</td>\n",
              "    </tr>\n",
              "    <tr>\n",
              "      <th>4</th>\n",
              "      <td>22</td>\n",
              "      <td>22</td>\n",
              "      <td>22</td>\n",
              "      <td>9</td>\n",
              "    </tr>\n",
              "    <tr>\n",
              "      <th>...</th>\n",
              "      <td>...</td>\n",
              "      <td>...</td>\n",
              "      <td>...</td>\n",
              "      <td>...</td>\n",
              "    </tr>\n",
              "    <tr>\n",
              "      <th>195</th>\n",
              "      <td>20</td>\n",
              "      <td>20</td>\n",
              "      <td>20</td>\n",
              "      <td>8</td>\n",
              "    </tr>\n",
              "    <tr>\n",
              "      <th>196</th>\n",
              "      <td>33</td>\n",
              "      <td>33</td>\n",
              "      <td>33</td>\n",
              "      <td>6</td>\n",
              "    </tr>\n",
              "    <tr>\n",
              "      <th>197</th>\n",
              "      <td>18</td>\n",
              "      <td>18</td>\n",
              "      <td>18</td>\n",
              "      <td>9</td>\n",
              "    </tr>\n",
              "    <tr>\n",
              "      <th>198</th>\n",
              "      <td>21</td>\n",
              "      <td>21</td>\n",
              "      <td>21</td>\n",
              "      <td>5</td>\n",
              "    </tr>\n",
              "    <tr>\n",
              "      <th>199</th>\n",
              "      <td>15</td>\n",
              "      <td>15</td>\n",
              "      <td>15</td>\n",
              "      <td>7</td>\n",
              "    </tr>\n",
              "  </tbody>\n",
              "</table>\n",
              "<p>200 rows × 4 columns</p>\n",
              "</div>"
            ],
            "text/plain": [
              "     English  Math  Science  Grade\n",
              "0         30    30       30      5\n",
              "1         17    17       17      7\n",
              "2         25    25       25      9\n",
              "3         32    32       32      6\n",
              "4         22    22       22      9\n",
              "..       ...   ...      ...    ...\n",
              "195       20    20       20      8\n",
              "196       33    33       33      6\n",
              "197       18    18       18      9\n",
              "198       21    21       21      5\n",
              "199       15    15       15      7\n",
              "\n",
              "[200 rows x 4 columns]"
            ]
          },
          "metadata": {
            "tags": []
          },
          "execution_count": 55
        }
      ]
    },
    {
      "cell_type": "code",
      "metadata": {
        "id": "XFq0sEtscclf"
      },
      "source": [
        "#split the data into train_test_split\n",
        "from sklearn.model_selection import train_test_split\n",
        "X_train, X_test, y_train, y_test = train_test_split(X, y, test_size = 0.2,random_state=0)"
      ],
      "execution_count": null,
      "outputs": []
    },
    {
      "cell_type": "code",
      "metadata": {
        "id": "12pVDc3cc2Ye"
      },
      "source": [
        "# Fitting Multiple Linear Regression to the Training set\n",
        "from sklearn.linear_model import LinearRegression\n",
        "regressor = LinearRegression()\n",
        "regressor.fit(X_train, y_train)\n",
        "pre_build_y_pred = regressor.predict(X_test)\n",
        "\n"
      ],
      "execution_count": null,
      "outputs": []
    },
    {
      "cell_type": "code",
      "metadata": {
        "colab": {
          "base_uri": "https://localhost:8080/"
        },
        "id": "8_duUFmvj4n1",
        "outputId": "5f611a1c-6ca8-4140-e7a9-e9c50a7d2b6b"
      },
      "source": [
        "from sklearn.model_selection import cross_val_score\n",
        "scores = cross_val_score(regressor, X_train, y_train, cv=10)\n",
        "print(scores)\n",
        "print(\n",
        "     f\"CI Accuracy: \"\n",
        "     f\"{round(scores.mean(), 2)} \"\n",
        "     f\"(+/- {round(scores.std() * 2, 2)})\"\n",
        ")"
      ],
      "execution_count": null,
      "outputs": [
        {
          "output_type": "stream",
          "text": [
            "[-0.04642018 -0.0517043  -0.05269275 -0.01072802  0.000417   -0.02869301\n",
            " -0.07956833 -0.06311476 -0.08029866 -0.00852243]\n",
            "CI Accuracy: -0.04 (+/- 0.06)\n"
          ],
          "name": "stdout"
        }
      ]
    },
    {
      "cell_type": "code",
      "metadata": {
        "colab": {
          "base_uri": "https://localhost:8080/"
        },
        "id": "sMuH4oJ2eAh0",
        "outputId": "31dad4db-542c-421e-9525-df7989522261"
      },
      "source": [
        "#Test score\n",
        "print(f'model accuracy on test set: {regressor.score(X_test, y_test)}')"
      ],
      "execution_count": null,
      "outputs": [
        {
          "output_type": "stream",
          "text": [
            "model accuracy on test set: 0.0069929159220707415\n"
          ],
          "name": "stdout"
        }
      ]
    },
    {
      "cell_type": "code",
      "metadata": {
        "colab": {
          "base_uri": "https://localhost:8080/"
        },
        "id": "v4FnspX4h5DK",
        "outputId": "593e4f24-4452-44f6-f105-4b93ac02c0fe"
      },
      "source": [
        "#Train score\n",
        "print(f'model accuracy on test set: {regressor.score(X_train, y_train)}')"
      ],
      "execution_count": null,
      "outputs": [
        {
          "output_type": "stream",
          "text": [
            "model accuracy on test set: 0.0005427164949782792\n"
          ],
          "name": "stdout"
        }
      ]
    },
    {
      "cell_type": "code",
      "metadata": {
        "colab": {
          "base_uri": "https://localhost:8080/"
        },
        "id": "L9WVERk3dZ9Q",
        "outputId": "a6062a37-af07-4e88-ca2e-7a8a601fd3ee"
      },
      "source": [
        "#pre-build slope,intercept and coefficient.\n",
        "pr_coeff_df = pd.DataFrame(regressor.coef_,Subject.iloc[:,:-1].columns,columns=['Coefficient'])\n",
        "print(coeff_df)\n",
        "pr_intercept_df = pd.DataFrame(regressor.intercept_,Subject.iloc[:,:-1].columns,columns=['Intercept'])\n",
        "print(intercept_df)\n",
        "pr_slope_df = pd.DataFrame(regressor.coef_,Subject.iloc[:,:-1].columns,columns=['slope'])\n",
        "print(pr_slope_df)\n"
      ],
      "execution_count": null,
      "outputs": [
        {
          "output_type": "stream",
          "text": [
            "         Coefficient\n",
            "English     0.001984\n",
            "Math        0.001984\n",
            "Science     0.001984\n",
            "         Intercept\n",
            "English   6.856019\n",
            "Math      6.856019\n",
            "Science   6.856019\n",
            "            slope\n",
            "English  0.001984\n",
            "Math     0.001984\n",
            "Science  0.001984\n"
          ],
          "name": "stdout"
        }
      ]
    },
    {
      "cell_type": "markdown",
      "metadata": {
        "id": "B-lAMEWRksrH"
      },
      "source": [
        "C.self-build algorithm:"
      ]
    },
    {
      "cell_type": "code",
      "metadata": {
        "id": "T6Wm6HePklID"
      },
      "source": [
        "class RegressorMethod():\n",
        "    def fit(self, X=None, y=None):\n",
        "        self.y_bar_ = np.mean(y)\n",
        "    def predict(self, X=None):\n",
        "        return np.ones(X.shape[0]) * self.y_bar_\n",
        "model = RegressorMethod()\n",
        "model.fit(X_train, y_train)\n",
        "self_build_y_pred=model.predict(X_test)    "
      ],
      "execution_count": null,
      "outputs": []
    },
    {
      "cell_type": "code",
      "metadata": {
        "colab": {
          "base_uri": "https://localhost:8080/"
        },
        "id": "S5VVd9_zkqYJ",
        "outputId": "717de65b-4937-41b8-9d13-a00a1f38199e"
      },
      "source": [
        "def score(self_build_y_pred,y_test):\n",
        "      mse = np.sum((y_pred - y_test)**2)\n",
        "      # root mean squared error\n",
        "      # m is the number of training examples\n",
        "      m=X_train.size\n",
        "      rmse = np.sqrt(mse/m)\n",
        "      ssr = np.sum((self_build_y_pred - y_test)**2)\n",
        "      #  total sum of squares\n",
        "      sst = np.sum((y_test - np.mean(y_test))**2)\n",
        "      # R2 score\n",
        "      r2_score = 1 - (ssr/sst)\n",
        "      print('Root mean squared error: ', rmse)\n",
        "      print('R2 score: ', r2_score)\n",
        "score(self_build_y_pred,y_test)"
      ],
      "execution_count": null,
      "outputs": [
        {
          "output_type": "stream",
          "text": [
            "Root mean squared error:  0.4906653633281398\n",
            "R2 score:  -0.005370569280343629\n"
          ],
          "name": "stdout"
        }
      ]
    },
    {
      "cell_type": "code",
      "metadata": {
        "id": "Ft3LOwYRqrJR",
        "colab": {
          "base_uri": "https://localhost:8080/"
        },
        "outputId": "4c17f850-fb47-4b94-e7d7-26b6494045d0"
      },
      "source": [
        "#calculate slope,intercept and co-efficient using self build algorithm\n",
        "def getInterSlopeCoff(X,y):\n",
        "      for i in range(0,len(Subject.iloc[:,:-1].columns)):\n",
        "        xmean = np.mean(X)\n",
        "        ymean = np.mean(y)\n",
        "        x_xmean = X - xmean\n",
        "        y_ymean = y - ymean\n",
        "        covariance = sum(x_xmean * y_ymean)\n",
        "        variance = sum(x_xmean * x_xmean)\n",
        "        cofficients = sum((x_xmean)*(y_ymean)) / sum((x_xmean)**2)\n",
        "\n",
        "      slope = covariance/variance\n",
        "      #Alternate mmethod\n",
        "      #for i in range(0,len(Subject.iloc[:,:-1].columns)):\n",
        "      #slope=(((X[:,i]*y).mean() - X[:,i].mean()*y.mean()) / ((X[:,i]**2).mean() - (X[:,i].mean())**2))\n",
        "      #slope_df=pd.DataFrame(slope,Subject.iloc[:,:-1].columns,columns=['slope'])\n",
        "      #print(slope_df)\n",
        "      intercept = ymean - (xmean * slope)\n",
        "      return intercept, slope,cofficients\n",
        "for i in range(0,len(Subject.iloc[:,:-1].columns)):\n",
        "  print(getInterSlopeCoff(X[:,i],y))"
      ],
      "execution_count": null,
      "outputs": [
        {
          "output_type": "stream",
          "text": [
            "(6.393189960696454, 0.02445607563276777, 0.02445607563276777)\n",
            "(6.393189960696454, 0.02445607563276777, 0.02445607563276777)\n",
            "(6.393189960696454, 0.02445607563276777, 0.02445607563276777)\n"
          ],
          "name": "stdout"
        }
      ]
    },
    {
      "cell_type": "code",
      "metadata": {
        "colab": {
          "base_uri": "https://localhost:8080/",
          "height": 297
        },
        "id": "WHaJz5rko7wL",
        "outputId": "3ba886d6-3804-4b14-f665-1478b49c5b6a"
      },
      "source": [
        "#pre build algorithm graph\n",
        "#plt.scatter(y_test, pr_y_pred, s=10)\n",
        "plt.xlabel('y_test')\n",
        "plt.ylabel('pre_build_y_pred')\n",
        "plt.plot(y_test,pre_build_y_pred,color=\"G\")\n"
      ],
      "execution_count": null,
      "outputs": [
        {
          "output_type": "execute_result",
          "data": {
            "text/plain": [
              "[<matplotlib.lines.Line2D at 0x7f2ee1ec76a0>]"
            ]
          },
          "metadata": {
            "tags": []
          },
          "execution_count": 73
        },
        {
          "output_type": "display_data",
          "data": {
            "image/png": "[encoded data removed]",
            "text/plain": [
              "<Figure size 432x288 with 1 Axes>"
            ]
          },
          "metadata": {
            "tags": [],
            "needs_background": "light"
          }
        }
      ]
    },
    {
      "cell_type": "code",
      "metadata": {
        "id": "Lmgwkjtc69Vb",
        "colab": {
          "base_uri": "https://localhost:8080/",
          "height": 297
        },
        "outputId": "d9b0254c-8702-4220-a677-d3a7da41b5fd"
      },
      "source": [
        "#self build algorithm graph\n",
        "#plt.scatter(y_test, y_pred, s=10)\n",
        "plt.xlabel('y_test')\n",
        "plt.ylabel('pre_build_y_pred')\n",
        "plt.plot(y_test,pre_build_y_pred,color=\"G\")"
      ],
      "execution_count": null,
      "outputs": [
        {
          "output_type": "execute_result",
          "data": {
            "text/plain": [
              "[<matplotlib.lines.Line2D at 0x7f2ee1e27e10>]"
            ]
          },
          "metadata": {
            "tags": []
          },
          "execution_count": 74
        },
        {
          "output_type": "display_data",
          "data": {
            "image/png": "[encoded data removed]",
            "text/plain": [
              "<Figure size 432x288 with 1 Axes>"
            ]
          },
          "metadata": {
            "tags": [],
            "needs_background": "light"
          }
        }
      ]
    },
    {
      "cell_type": "code",
      "metadata": {
        "id": "WHLoUSi_d9iG"
      },
      "source": [
        ""
      ],
      "execution_count": null,
      "outputs": []
    },
    {
      "cell_type": "code",
      "metadata": {
        "id": "Fh9569BPh4gD"
      },
      "source": [
        ""
      ],
      "execution_count": null,
      "outputs": []
    }
  ]
}